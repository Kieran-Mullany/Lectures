{
 "cells": [
  {
   "cell_type": "code",
   "execution_count": 1,
   "id": "d462dd2c",
   "metadata": {},
   "outputs": [],
   "source": [
    "import numpy as np\n"
   ]
  },
  {
   "cell_type": "code",
   "execution_count": 3,
   "id": "dd0e4a36",
   "metadata": {},
   "outputs": [
    {
     "data": {
      "text/plain": [
       "1"
      ]
     },
     "execution_count": 3,
     "metadata": {},
     "output_type": "execute_result"
    }
   ],
   "source": [
    "np.random.binomial(1, 0.5)"
   ]
  },
  {
   "cell_type": "code",
   "execution_count": 4,
   "id": "fb36149d",
   "metadata": {},
   "outputs": [
    {
     "data": {
      "text/plain": [
       "array([0, 0, 0, 0, 1, 1, 1, 1, 0, 1, 1, 0, 0, 1, 0, 1, 0, 0, 0, 1, 0, 0,\n",
       "       1, 1, 0, 1, 0, 0, 1, 0, 1, 1, 1, 1, 0, 1, 1, 0, 1, 1, 1, 0, 1, 0,\n",
       "       0, 1, 1, 1, 1, 1, 1, 1, 1, 1, 0, 0, 1, 0, 0, 0, 1, 0, 1, 1, 1, 0,\n",
       "       1, 1, 0, 1, 1, 1, 1, 1, 1, 1, 1, 0, 0, 1, 0, 1, 1, 0, 1, 0, 0, 1,\n",
       "       0, 0, 1, 1, 0, 0, 0, 1, 1, 1, 0, 0])"
      ]
     },
     "execution_count": 4,
     "metadata": {},
     "output_type": "execute_result"
    }
   ],
   "source": [
    "np.random.binomial(1, 0.5, 100)"
   ]
  },
  {
   "cell_type": "code",
   "execution_count": 6,
   "id": "fa88603f",
   "metadata": {},
   "outputs": [
    {
     "data": {
      "text/plain": [
       "52"
      ]
     },
     "execution_count": 6,
     "metadata": {},
     "output_type": "execute_result"
    }
   ],
   "source": [
    "np.random.binomial(100, 0.5)"
   ]
  },
  {
   "cell_type": "code",
   "execution_count": 7,
   "id": "87307ba3",
   "metadata": {},
   "outputs": [
    {
     "data": {
      "text/plain": [
       "1267650600228229401496703205376"
      ]
     },
     "execution_count": 7,
     "metadata": {},
     "output_type": "execute_result"
    }
   ],
   "source": [
    "2 ** 100"
   ]
  },
  {
   "cell_type": "code",
   "execution_count": 10,
   "id": "35ecad15",
   "metadata": {},
   "outputs": [
    {
     "name": "stdout",
     "output_type": "stream",
     "text": [
      "[1 1 0 1 1 0 0 0 0 1]\n",
      "[0 1 1 0 1 0 1 1 0 0]\n",
      "[0 0 1 0 1 1 0 1 0 1]\n",
      "Total generated: 16\n"
     ]
    }
   ],
   "source": [
    "N = 3\n",
    "total_no = 0\n",
    "while N > 0:\n",
    "    total_no = total_no + 1\n",
    "    tosses = np.random.binomial(1, 0.5, 10)\n",
    "    if tosses.sum() == 5:\n",
    "        print(tosses)\n",
    "        N = N - 1\n",
    "print(f'Total generated: {total_no}')"
   ]
  },
  {
   "cell_type": "code",
   "execution_count": 11,
   "id": "5cb6497d",
   "metadata": {},
   "outputs": [],
   "source": [
    "#########################################\n",
    "\n",
    "# KM Practice - Data Science Bookcamp"
   ]
  },
  {
   "cell_type": "code",
   "execution_count": 13,
   "id": "aed7d0f1",
   "metadata": {},
   "outputs": [],
   "source": [
    "sample_space = {'Heads', 'Tails'}"
   ]
  },
  {
   "cell_type": "code",
   "execution_count": 16,
   "id": "2e19644d",
   "metadata": {},
   "outputs": [],
   "source": [
    "probability_heads = 1 / len(sample_space)"
   ]
  },
  {
   "cell_type": "code",
   "execution_count": 17,
   "id": "3720163c",
   "metadata": {},
   "outputs": [
    {
     "name": "stdout",
     "output_type": "stream",
     "text": [
      "Probability of choosing heads is 0.5\n"
     ]
    }
   ],
   "source": [
    "print(f'Probability of choosing heads is {probability_heads}')"
   ]
  },
  {
   "cell_type": "code",
   "execution_count": 18,
   "id": "ef120021",
   "metadata": {},
   "outputs": [],
   "source": [
    "def is_heads_or_tails(outcome): return outcome in {'Heads', 'Tails'}"
   ]
  },
  {
   "cell_type": "code",
   "execution_count": 33,
   "id": "cea0ec00",
   "metadata": {},
   "outputs": [
    {
     "data": {
      "text/plain": [
       "True"
      ]
     },
     "execution_count": 33,
     "metadata": {},
     "output_type": "execute_result"
    }
   ],
   "source": [
    "is_heads_or_tails('Tails')"
   ]
  },
  {
   "cell_type": "code",
   "execution_count": null,
   "id": "1074bb53",
   "metadata": {},
   "outputs": [],
   "source": []
  },
  {
   "cell_type": "code",
   "execution_count": 19,
   "id": "a4af4ee1",
   "metadata": {},
   "outputs": [],
   "source": [
    "def is_neither(outcome): return not is_heads_or_tails(outcome)"
   ]
  },
  {
   "cell_type": "code",
   "execution_count": 34,
   "id": "71fd3288",
   "metadata": {},
   "outputs": [
    {
     "data": {
      "text/plain": [
       "False"
      ]
     },
     "execution_count": 34,
     "metadata": {},
     "output_type": "execute_result"
    }
   ],
   "source": [
    "is_neither('Heads')"
   ]
  },
  {
   "cell_type": "code",
   "execution_count": 20,
   "id": "2b91ce9c",
   "metadata": {},
   "outputs": [],
   "source": [
    "def is_heads(outcome): return outcome == 'Heads'\n",
    "def is_tails(outcome): return outcome == 'Tails'"
   ]
  },
  {
   "cell_type": "code",
   "execution_count": 35,
   "id": "8c39230c",
   "metadata": {},
   "outputs": [
    {
     "data": {
      "text/plain": [
       "True"
      ]
     },
     "execution_count": 35,
     "metadata": {},
     "output_type": "execute_result"
    }
   ],
   "source": [
    "is_heads('Heads')"
   ]
  },
  {
   "cell_type": "code",
   "execution_count": 26,
   "id": "f24f03c8",
   "metadata": {},
   "outputs": [],
   "source": [
    "def get_matching_event(event_condition, sample_space):\n",
    "    return set([outcome for outcome in sample_space if event_condition(outcome)])"
   ]
  },
  {
   "cell_type": "code",
   "execution_count": 27,
   "id": "b8f6b977",
   "metadata": {},
   "outputs": [],
   "source": [
    "event_conditions = [is_heads_or_tails, is_heads, is_tails, is_neither]"
   ]
  },
  {
   "cell_type": "code",
   "execution_count": 28,
   "id": "4e3c1404",
   "metadata": {},
   "outputs": [
    {
     "name": "stdout",
     "output_type": "stream",
     "text": [
      "Event Condition: is_heads_or_tails\n",
      "Event: {'Heads', 'Tails'}\n",
      "\n",
      "Event Condition: is_heads\n",
      "Event: {'Heads'}\n",
      "\n",
      "Event Condition: is_tails\n",
      "Event: {'Tails'}\n",
      "\n",
      "Event Condition: is_neither\n",
      "Event: set()\n",
      "\n"
     ]
    }
   ],
   "source": [
    "for event_condition in event_conditions:\n",
    "    print(f\"Event Condition: {event_condition.__name__}\")\n",
    "    event = get_matching_event(event_condition, sample_space)\n",
    "    print(f'Event: {event}\\n')"
   ]
  },
  {
   "cell_type": "code",
   "execution_count": 30,
   "id": "81204194",
   "metadata": {},
   "outputs": [],
   "source": [
    "def compute_probability(event_condition, generic_sample_space):\n",
    "    event = get_matching_event(event_condition, generic_sample_space)\n",
    "    return len(event) / len(generic_sample_space)"
   ]
  },
  {
   "cell_type": "code",
   "execution_count": 31,
   "id": "82a6cee5",
   "metadata": {},
   "outputs": [
    {
     "name": "stdout",
     "output_type": "stream",
     "text": [
      "Probability of event arising from 'is_heads_or_tails' is 1.0\n",
      "Probability of event arising from 'is_heads' is 0.5\n",
      "Probability of event arising from 'is_tails' is 0.5\n",
      "Probability of event arising from 'is_neither' is 0.0\n"
     ]
    }
   ],
   "source": [
    "for event_condition in event_conditions:\n",
    "    prob = compute_probability(event_condition, sample_space)\n",
    "    name = event_condition.__name__\n",
    "    print(f\"Probability of event arising from '{name}' is {prob}\")"
   ]
  },
  {
   "cell_type": "code",
   "execution_count": null,
   "id": "707a6b24",
   "metadata": {},
   "outputs": [],
   "source": []
  }
 ],
 "metadata": {
  "kernelspec": {
   "display_name": "Python 3 (ipykernel)",
   "language": "python",
   "name": "python3"
  },
  "language_info": {
   "codemirror_mode": {
    "name": "ipython",
    "version": 3
   },
   "file_extension": ".py",
   "mimetype": "text/x-python",
   "name": "python",
   "nbconvert_exporter": "python",
   "pygments_lexer": "ipython3",
   "version": "3.9.13"
  }
 },
 "nbformat": 4,
 "nbformat_minor": 5
}
